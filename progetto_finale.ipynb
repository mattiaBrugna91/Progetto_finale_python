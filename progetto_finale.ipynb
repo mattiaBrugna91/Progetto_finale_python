{
 "cells": [
  {
   "cell_type": "markdown",
   "id": "55b217f5-4fcf-4ef0-918a-9b366fea5392",
   "metadata": {},
   "source": [
    "### PROGETTO FINALE : ANALISI DATASET COVID 2019"
   ]
  },
  {
   "cell_type": "markdown",
   "id": "1773ceb5-5151-4f76-a6b2-ffbbc78ef5ad",
   "metadata": {},
   "source": [
    "#### Importo pandas per lavorare con il dataset "
   ]
  },
  {
   "cell_type": "code",
   "execution_count": 1,
   "id": "63b7f117-fab5-4c28-9d0d-5f7a05db1e31",
   "metadata": {},
   "outputs": [],
   "source": [
    "import pandas as pd\n",
    "from pandas import set_option"
   ]
  },
  {
   "cell_type": "markdown",
   "id": "e77de436-5b3a-4551-8f5c-6d303eb44a7e",
   "metadata": {},
   "source": [
    "#### Imposto il formato di visualizzazione dei numeri decimali"
   ]
  },
  {
   "cell_type": "code",
   "execution_count": 2,
   "id": "113f756b-83e7-4e7f-85e6-3138a924edfe",
   "metadata": {},
   "outputs": [],
   "source": [
    "set_option('display.float_format', '{:,.2f}'.format)"
   ]
  },
  {
   "cell_type": "markdown",
   "id": "a7688573-4d0b-4efb-aeda-e4fdd5532667",
   "metadata": {},
   "source": [
    "#### Procedo con la lettura del dataset relativo al covid "
   ]
  },
  {
   "cell_type": "code",
   "execution_count": 3,
   "id": "5bd55e52-fe59-4d78-84c1-6ff6167cdc2c",
   "metadata": {},
   "outputs": [],
   "source": [
    "dtypes = {\"tests_units\": object}\n",
    "data = pd.read_csv(\"owid-covid-data.csv\", dtype = dtypes )"
   ]
  },
  {
   "cell_type": "markdown",
   "id": "12f62287-9c3b-469d-bfd2-847298daaa70",
   "metadata": {},
   "source": [
    "#### Analizzo dimensioni del dataset e controllo intestazioni e le prime righe"
   ]
  },
  {
   "cell_type": "code",
   "execution_count": 4,
   "id": "29c826ad-0eff-408f-8c7c-0e394ece2eb1",
   "metadata": {},
   "outputs": [
    {
     "data": {
      "text/plain": [
       "(311391, 67)"
      ]
     },
     "execution_count": 4,
     "metadata": {},
     "output_type": "execute_result"
    }
   ],
   "source": [
    "data.shape"
   ]
  },
  {
   "cell_type": "markdown",
   "id": "f1d021dc-339c-4342-a6db-06aa931c4a46",
   "metadata": {},
   "source": [
    "###### Da questo output si può notare che il dataset è composto da 311.391 righe e 67 colonne"
   ]
  },
  {
   "cell_type": "code",
   "execution_count": 5,
   "id": "7a935776-6fbc-4294-a8fd-c649dddd1750",
   "metadata": {},
   "outputs": [
    {
     "data": {
      "text/plain": [
       "Index(['iso_code', 'continent', 'location', 'date', 'total_cases', 'new_cases',\n",
       "       'new_cases_smoothed', 'total_deaths', 'new_deaths',\n",
       "       'new_deaths_smoothed', 'total_cases_per_million',\n",
       "       'new_cases_per_million', 'new_cases_smoothed_per_million',\n",
       "       'total_deaths_per_million', 'new_deaths_per_million',\n",
       "       'new_deaths_smoothed_per_million', 'reproduction_rate', 'icu_patients',\n",
       "       'icu_patients_per_million', 'hosp_patients',\n",
       "       'hosp_patients_per_million', 'weekly_icu_admissions',\n",
       "       'weekly_icu_admissions_per_million', 'weekly_hosp_admissions',\n",
       "       'weekly_hosp_admissions_per_million', 'total_tests', 'new_tests',\n",
       "       'total_tests_per_thousand', 'new_tests_per_thousand',\n",
       "       'new_tests_smoothed', 'new_tests_smoothed_per_thousand',\n",
       "       'positive_rate', 'tests_per_case', 'tests_units', 'total_vaccinations',\n",
       "       'people_vaccinated', 'people_fully_vaccinated', 'total_boosters',\n",
       "       'new_vaccinations', 'new_vaccinations_smoothed',\n",
       "       'total_vaccinations_per_hundred', 'people_vaccinated_per_hundred',\n",
       "       'people_fully_vaccinated_per_hundred', 'total_boosters_per_hundred',\n",
       "       'new_vaccinations_smoothed_per_million',\n",
       "       'new_people_vaccinated_smoothed',\n",
       "       'new_people_vaccinated_smoothed_per_hundred', 'stringency_index',\n",
       "       'population_density', 'median_age', 'aged_65_older', 'aged_70_older',\n",
       "       'gdp_per_capita', 'extreme_poverty', 'cardiovasc_death_rate',\n",
       "       'diabetes_prevalence', 'female_smokers', 'male_smokers',\n",
       "       'handwashing_facilities', 'hospital_beds_per_thousand',\n",
       "       'life_expectancy', 'human_development_index', 'population',\n",
       "       'excess_mortality_cumulative_absolute', 'excess_mortality_cumulative',\n",
       "       'excess_mortality', 'excess_mortality_cumulative_per_million'],\n",
       "      dtype='object')"
      ]
     },
     "execution_count": 5,
     "metadata": {},
     "output_type": "execute_result"
    }
   ],
   "source": [
    "data.columns"
   ]
  },
  {
   "cell_type": "code",
   "execution_count": 6,
   "id": "468610ca-be85-4791-9dc0-b793410ed586",
   "metadata": {},
   "outputs": [
    {
     "data": {
      "text/html": [
       "<div>\n",
       "<style scoped>\n",
       "    .dataframe tbody tr th:only-of-type {\n",
       "        vertical-align: middle;\n",
       "    }\n",
       "\n",
       "    .dataframe tbody tr th {\n",
       "        vertical-align: top;\n",
       "    }\n",
       "\n",
       "    .dataframe thead th {\n",
       "        text-align: right;\n",
       "    }\n",
       "</style>\n",
       "<table border=\"1\" class=\"dataframe\">\n",
       "  <thead>\n",
       "    <tr style=\"text-align: right;\">\n",
       "      <th></th>\n",
       "      <th>iso_code</th>\n",
       "      <th>continent</th>\n",
       "      <th>location</th>\n",
       "      <th>date</th>\n",
       "      <th>total_cases</th>\n",
       "      <th>new_cases</th>\n",
       "      <th>new_cases_smoothed</th>\n",
       "      <th>total_deaths</th>\n",
       "      <th>new_deaths</th>\n",
       "      <th>new_deaths_smoothed</th>\n",
       "      <th>...</th>\n",
       "      <th>male_smokers</th>\n",
       "      <th>handwashing_facilities</th>\n",
       "      <th>hospital_beds_per_thousand</th>\n",
       "      <th>life_expectancy</th>\n",
       "      <th>human_development_index</th>\n",
       "      <th>population</th>\n",
       "      <th>excess_mortality_cumulative_absolute</th>\n",
       "      <th>excess_mortality_cumulative</th>\n",
       "      <th>excess_mortality</th>\n",
       "      <th>excess_mortality_cumulative_per_million</th>\n",
       "    </tr>\n",
       "  </thead>\n",
       "  <tbody>\n",
       "    <tr>\n",
       "      <th>0</th>\n",
       "      <td>AFG</td>\n",
       "      <td>Asia</td>\n",
       "      <td>Afghanistan</td>\n",
       "      <td>2020-01-03</td>\n",
       "      <td>NaN</td>\n",
       "      <td>0.00</td>\n",
       "      <td>NaN</td>\n",
       "      <td>NaN</td>\n",
       "      <td>0.00</td>\n",
       "      <td>NaN</td>\n",
       "      <td>...</td>\n",
       "      <td>NaN</td>\n",
       "      <td>37.75</td>\n",
       "      <td>0.50</td>\n",
       "      <td>64.83</td>\n",
       "      <td>0.51</td>\n",
       "      <td>41,128,772.00</td>\n",
       "      <td>NaN</td>\n",
       "      <td>NaN</td>\n",
       "      <td>NaN</td>\n",
       "      <td>NaN</td>\n",
       "    </tr>\n",
       "    <tr>\n",
       "      <th>1</th>\n",
       "      <td>AFG</td>\n",
       "      <td>Asia</td>\n",
       "      <td>Afghanistan</td>\n",
       "      <td>2020-01-04</td>\n",
       "      <td>NaN</td>\n",
       "      <td>0.00</td>\n",
       "      <td>NaN</td>\n",
       "      <td>NaN</td>\n",
       "      <td>0.00</td>\n",
       "      <td>NaN</td>\n",
       "      <td>...</td>\n",
       "      <td>NaN</td>\n",
       "      <td>37.75</td>\n",
       "      <td>0.50</td>\n",
       "      <td>64.83</td>\n",
       "      <td>0.51</td>\n",
       "      <td>41,128,772.00</td>\n",
       "      <td>NaN</td>\n",
       "      <td>NaN</td>\n",
       "      <td>NaN</td>\n",
       "      <td>NaN</td>\n",
       "    </tr>\n",
       "    <tr>\n",
       "      <th>2</th>\n",
       "      <td>AFG</td>\n",
       "      <td>Asia</td>\n",
       "      <td>Afghanistan</td>\n",
       "      <td>2020-01-05</td>\n",
       "      <td>NaN</td>\n",
       "      <td>0.00</td>\n",
       "      <td>NaN</td>\n",
       "      <td>NaN</td>\n",
       "      <td>0.00</td>\n",
       "      <td>NaN</td>\n",
       "      <td>...</td>\n",
       "      <td>NaN</td>\n",
       "      <td>37.75</td>\n",
       "      <td>0.50</td>\n",
       "      <td>64.83</td>\n",
       "      <td>0.51</td>\n",
       "      <td>41,128,772.00</td>\n",
       "      <td>NaN</td>\n",
       "      <td>NaN</td>\n",
       "      <td>NaN</td>\n",
       "      <td>NaN</td>\n",
       "    </tr>\n",
       "    <tr>\n",
       "      <th>3</th>\n",
       "      <td>AFG</td>\n",
       "      <td>Asia</td>\n",
       "      <td>Afghanistan</td>\n",
       "      <td>2020-01-06</td>\n",
       "      <td>NaN</td>\n",
       "      <td>0.00</td>\n",
       "      <td>NaN</td>\n",
       "      <td>NaN</td>\n",
       "      <td>0.00</td>\n",
       "      <td>NaN</td>\n",
       "      <td>...</td>\n",
       "      <td>NaN</td>\n",
       "      <td>37.75</td>\n",
       "      <td>0.50</td>\n",
       "      <td>64.83</td>\n",
       "      <td>0.51</td>\n",
       "      <td>41,128,772.00</td>\n",
       "      <td>NaN</td>\n",
       "      <td>NaN</td>\n",
       "      <td>NaN</td>\n",
       "      <td>NaN</td>\n",
       "    </tr>\n",
       "    <tr>\n",
       "      <th>4</th>\n",
       "      <td>AFG</td>\n",
       "      <td>Asia</td>\n",
       "      <td>Afghanistan</td>\n",
       "      <td>2020-01-07</td>\n",
       "      <td>NaN</td>\n",
       "      <td>0.00</td>\n",
       "      <td>NaN</td>\n",
       "      <td>NaN</td>\n",
       "      <td>0.00</td>\n",
       "      <td>NaN</td>\n",
       "      <td>...</td>\n",
       "      <td>NaN</td>\n",
       "      <td>37.75</td>\n",
       "      <td>0.50</td>\n",
       "      <td>64.83</td>\n",
       "      <td>0.51</td>\n",
       "      <td>41,128,772.00</td>\n",
       "      <td>NaN</td>\n",
       "      <td>NaN</td>\n",
       "      <td>NaN</td>\n",
       "      <td>NaN</td>\n",
       "    </tr>\n",
       "    <tr>\n",
       "      <th>5</th>\n",
       "      <td>AFG</td>\n",
       "      <td>Asia</td>\n",
       "      <td>Afghanistan</td>\n",
       "      <td>2020-01-08</td>\n",
       "      <td>NaN</td>\n",
       "      <td>0.00</td>\n",
       "      <td>0.00</td>\n",
       "      <td>NaN</td>\n",
       "      <td>0.00</td>\n",
       "      <td>0.00</td>\n",
       "      <td>...</td>\n",
       "      <td>NaN</td>\n",
       "      <td>37.75</td>\n",
       "      <td>0.50</td>\n",
       "      <td>64.83</td>\n",
       "      <td>0.51</td>\n",
       "      <td>41,128,772.00</td>\n",
       "      <td>NaN</td>\n",
       "      <td>NaN</td>\n",
       "      <td>NaN</td>\n",
       "      <td>NaN</td>\n",
       "    </tr>\n",
       "    <tr>\n",
       "      <th>6</th>\n",
       "      <td>AFG</td>\n",
       "      <td>Asia</td>\n",
       "      <td>Afghanistan</td>\n",
       "      <td>2020-01-09</td>\n",
       "      <td>NaN</td>\n",
       "      <td>0.00</td>\n",
       "      <td>0.00</td>\n",
       "      <td>NaN</td>\n",
       "      <td>0.00</td>\n",
       "      <td>0.00</td>\n",
       "      <td>...</td>\n",
       "      <td>NaN</td>\n",
       "      <td>37.75</td>\n",
       "      <td>0.50</td>\n",
       "      <td>64.83</td>\n",
       "      <td>0.51</td>\n",
       "      <td>41,128,772.00</td>\n",
       "      <td>NaN</td>\n",
       "      <td>NaN</td>\n",
       "      <td>NaN</td>\n",
       "      <td>NaN</td>\n",
       "    </tr>\n",
       "    <tr>\n",
       "      <th>7</th>\n",
       "      <td>AFG</td>\n",
       "      <td>Asia</td>\n",
       "      <td>Afghanistan</td>\n",
       "      <td>2020-01-10</td>\n",
       "      <td>NaN</td>\n",
       "      <td>0.00</td>\n",
       "      <td>0.00</td>\n",
       "      <td>NaN</td>\n",
       "      <td>0.00</td>\n",
       "      <td>0.00</td>\n",
       "      <td>...</td>\n",
       "      <td>NaN</td>\n",
       "      <td>37.75</td>\n",
       "      <td>0.50</td>\n",
       "      <td>64.83</td>\n",
       "      <td>0.51</td>\n",
       "      <td>41,128,772.00</td>\n",
       "      <td>NaN</td>\n",
       "      <td>NaN</td>\n",
       "      <td>NaN</td>\n",
       "      <td>NaN</td>\n",
       "    </tr>\n",
       "    <tr>\n",
       "      <th>8</th>\n",
       "      <td>AFG</td>\n",
       "      <td>Asia</td>\n",
       "      <td>Afghanistan</td>\n",
       "      <td>2020-01-11</td>\n",
       "      <td>NaN</td>\n",
       "      <td>0.00</td>\n",
       "      <td>0.00</td>\n",
       "      <td>NaN</td>\n",
       "      <td>0.00</td>\n",
       "      <td>0.00</td>\n",
       "      <td>...</td>\n",
       "      <td>NaN</td>\n",
       "      <td>37.75</td>\n",
       "      <td>0.50</td>\n",
       "      <td>64.83</td>\n",
       "      <td>0.51</td>\n",
       "      <td>41,128,772.00</td>\n",
       "      <td>NaN</td>\n",
       "      <td>NaN</td>\n",
       "      <td>NaN</td>\n",
       "      <td>NaN</td>\n",
       "    </tr>\n",
       "    <tr>\n",
       "      <th>9</th>\n",
       "      <td>AFG</td>\n",
       "      <td>Asia</td>\n",
       "      <td>Afghanistan</td>\n",
       "      <td>2020-01-12</td>\n",
       "      <td>NaN</td>\n",
       "      <td>0.00</td>\n",
       "      <td>0.00</td>\n",
       "      <td>NaN</td>\n",
       "      <td>0.00</td>\n",
       "      <td>0.00</td>\n",
       "      <td>...</td>\n",
       "      <td>NaN</td>\n",
       "      <td>37.75</td>\n",
       "      <td>0.50</td>\n",
       "      <td>64.83</td>\n",
       "      <td>0.51</td>\n",
       "      <td>41,128,772.00</td>\n",
       "      <td>NaN</td>\n",
       "      <td>NaN</td>\n",
       "      <td>NaN</td>\n",
       "      <td>NaN</td>\n",
       "    </tr>\n",
       "  </tbody>\n",
       "</table>\n",
       "<p>10 rows × 67 columns</p>\n",
       "</div>"
      ],
      "text/plain": [
       "  iso_code continent     location        date  total_cases  new_cases  \\\n",
       "0      AFG      Asia  Afghanistan  2020-01-03          NaN       0.00   \n",
       "1      AFG      Asia  Afghanistan  2020-01-04          NaN       0.00   \n",
       "2      AFG      Asia  Afghanistan  2020-01-05          NaN       0.00   \n",
       "3      AFG      Asia  Afghanistan  2020-01-06          NaN       0.00   \n",
       "4      AFG      Asia  Afghanistan  2020-01-07          NaN       0.00   \n",
       "5      AFG      Asia  Afghanistan  2020-01-08          NaN       0.00   \n",
       "6      AFG      Asia  Afghanistan  2020-01-09          NaN       0.00   \n",
       "7      AFG      Asia  Afghanistan  2020-01-10          NaN       0.00   \n",
       "8      AFG      Asia  Afghanistan  2020-01-11          NaN       0.00   \n",
       "9      AFG      Asia  Afghanistan  2020-01-12          NaN       0.00   \n",
       "\n",
       "   new_cases_smoothed  total_deaths  new_deaths  new_deaths_smoothed  ...  \\\n",
       "0                 NaN           NaN        0.00                  NaN  ...   \n",
       "1                 NaN           NaN        0.00                  NaN  ...   \n",
       "2                 NaN           NaN        0.00                  NaN  ...   \n",
       "3                 NaN           NaN        0.00                  NaN  ...   \n",
       "4                 NaN           NaN        0.00                  NaN  ...   \n",
       "5                0.00           NaN        0.00                 0.00  ...   \n",
       "6                0.00           NaN        0.00                 0.00  ...   \n",
       "7                0.00           NaN        0.00                 0.00  ...   \n",
       "8                0.00           NaN        0.00                 0.00  ...   \n",
       "9                0.00           NaN        0.00                 0.00  ...   \n",
       "\n",
       "   male_smokers  handwashing_facilities  hospital_beds_per_thousand  \\\n",
       "0           NaN                   37.75                        0.50   \n",
       "1           NaN                   37.75                        0.50   \n",
       "2           NaN                   37.75                        0.50   \n",
       "3           NaN                   37.75                        0.50   \n",
       "4           NaN                   37.75                        0.50   \n",
       "5           NaN                   37.75                        0.50   \n",
       "6           NaN                   37.75                        0.50   \n",
       "7           NaN                   37.75                        0.50   \n",
       "8           NaN                   37.75                        0.50   \n",
       "9           NaN                   37.75                        0.50   \n",
       "\n",
       "   life_expectancy  human_development_index    population  \\\n",
       "0            64.83                     0.51 41,128,772.00   \n",
       "1            64.83                     0.51 41,128,772.00   \n",
       "2            64.83                     0.51 41,128,772.00   \n",
       "3            64.83                     0.51 41,128,772.00   \n",
       "4            64.83                     0.51 41,128,772.00   \n",
       "5            64.83                     0.51 41,128,772.00   \n",
       "6            64.83                     0.51 41,128,772.00   \n",
       "7            64.83                     0.51 41,128,772.00   \n",
       "8            64.83                     0.51 41,128,772.00   \n",
       "9            64.83                     0.51 41,128,772.00   \n",
       "\n",
       "   excess_mortality_cumulative_absolute  excess_mortality_cumulative  \\\n",
       "0                                   NaN                          NaN   \n",
       "1                                   NaN                          NaN   \n",
       "2                                   NaN                          NaN   \n",
       "3                                   NaN                          NaN   \n",
       "4                                   NaN                          NaN   \n",
       "5                                   NaN                          NaN   \n",
       "6                                   NaN                          NaN   \n",
       "7                                   NaN                          NaN   \n",
       "8                                   NaN                          NaN   \n",
       "9                                   NaN                          NaN   \n",
       "\n",
       "   excess_mortality  excess_mortality_cumulative_per_million  \n",
       "0               NaN                                      NaN  \n",
       "1               NaN                                      NaN  \n",
       "2               NaN                                      NaN  \n",
       "3               NaN                                      NaN  \n",
       "4               NaN                                      NaN  \n",
       "5               NaN                                      NaN  \n",
       "6               NaN                                      NaN  \n",
       "7               NaN                                      NaN  \n",
       "8               NaN                                      NaN  \n",
       "9               NaN                                      NaN  \n",
       "\n",
       "[10 rows x 67 columns]"
      ]
     },
     "execution_count": 6,
     "metadata": {},
     "output_type": "execute_result"
    }
   ],
   "source": [
    "data.head(10)"
   ]
  },
  {
   "cell_type": "markdown",
   "id": "7c088d98-b094-4c7f-8730-f4a65641e2ac",
   "metadata": {},
   "source": [
    "#### Numero dei casi totali per continente"
   ]
  },
  {
   "cell_type": "code",
   "execution_count": 7,
   "id": "c5cbb4fb-266b-4f24-9c8a-db69731a2a07",
   "metadata": {},
   "outputs": [],
   "source": [
    "g = data.groupby(\"continent\")"
   ]
  },
  {
   "cell_type": "code",
   "execution_count": 8,
   "id": "966c792e-4f58-41d9-9e7c-9017068035e1",
   "metadata": {},
   "outputs": [
    {
     "data": {
      "text/plain": [
       "continent\n",
       "Africa           13,088,991.00\n",
       "Asia            297,234,406.00\n",
       "Europe          249,319,188.00\n",
       "North America   124,175,560.00\n",
       "Oceania          14,073,975.00\n",
       "South America    68,568,119.00\n",
       "Name: new_cases, dtype: float64"
      ]
     },
     "execution_count": 8,
     "metadata": {},
     "output_type": "execute_result"
    }
   ],
   "source": [
    "g[\"new_cases\"].sum()"
   ]
  },
  {
   "cell_type": "markdown",
   "id": "f87f301d-1449-4d5f-8472-394780277b73",
   "metadata": {},
   "source": [
    "#### Importo la libreria numpy per creare un grafico sui casi covid nei vari continenti"
   ]
  },
  {
   "cell_type": "code",
   "execution_count": 9,
   "id": "0dff6a0c-197b-44e4-983b-36287b2f9b5c",
   "metadata": {},
   "outputs": [
    {
     "data": {
      "text/html": [
       "<div>\n",
       "<style scoped>\n",
       "    .dataframe tbody tr th:only-of-type {\n",
       "        vertical-align: middle;\n",
       "    }\n",
       "\n",
       "    .dataframe tbody tr th {\n",
       "        vertical-align: top;\n",
       "    }\n",
       "\n",
       "    .dataframe thead th {\n",
       "        text-align: right;\n",
       "    }\n",
       "</style>\n",
       "<table border=\"1\" class=\"dataframe\">\n",
       "  <thead>\n",
       "    <tr style=\"text-align: right;\">\n",
       "      <th></th>\n",
       "      <th>continent</th>\n",
       "      <th>casi_covid</th>\n",
       "    </tr>\n",
       "  </thead>\n",
       "  <tbody>\n",
       "    <tr>\n",
       "      <th>0</th>\n",
       "      <td>Africa</td>\n",
       "      <td>13,088,991.00</td>\n",
       "    </tr>\n",
       "    <tr>\n",
       "      <th>1</th>\n",
       "      <td>Asia</td>\n",
       "      <td>297,234,406.00</td>\n",
       "    </tr>\n",
       "    <tr>\n",
       "      <th>2</th>\n",
       "      <td>Europe</td>\n",
       "      <td>249,319,188.00</td>\n",
       "    </tr>\n",
       "    <tr>\n",
       "      <th>3</th>\n",
       "      <td>North America</td>\n",
       "      <td>124,175,560.00</td>\n",
       "    </tr>\n",
       "    <tr>\n",
       "      <th>4</th>\n",
       "      <td>Oceania</td>\n",
       "      <td>14,073,975.00</td>\n",
       "    </tr>\n",
       "    <tr>\n",
       "      <th>5</th>\n",
       "      <td>South America</td>\n",
       "      <td>68,568,119.00</td>\n",
       "    </tr>\n",
       "  </tbody>\n",
       "</table>\n",
       "</div>"
      ],
      "text/plain": [
       "       continent     casi_covid\n",
       "0         Africa  13,088,991.00\n",
       "1           Asia 297,234,406.00\n",
       "2         Europe 249,319,188.00\n",
       "3  North America 124,175,560.00\n",
       "4        Oceania  14,073,975.00\n",
       "5  South America  68,568,119.00"
      ]
     },
     "execution_count": 9,
     "metadata": {},
     "output_type": "execute_result"
    }
   ],
   "source": [
    "import numpy as np\n",
    "data.groupby(by = \"continent\",as_index = False, dropna = True).agg(casi_covid = (\"new_cases\",np.sum))"
   ]
  },
  {
   "cell_type": "code",
   "execution_count": 10,
   "id": "cfcae898-5d81-4b76-8d1d-40f1141838cb",
   "metadata": {},
   "outputs": [
    {
     "data": {
      "text/plain": [
       "<Axes: xlabel='continent'>"
      ]
     },
     "execution_count": 10,
     "metadata": {},
     "output_type": "execute_result"
    },
    {
     "data": {
      "image/png": "[encoded data removed]",
      "text/plain": [
       "<Figure size 640x480 with 1 Axes>"
      ]
     },
     "metadata": {},
     "output_type": "display_data"
    }
   ],
   "source": [
    "import numpy as np\n",
    "data.groupby(by = \"continent\",as_index = False, dropna = True).agg(casi_covid = (\"new_cases\",np.sum)) \\\n",
    "       .plot(x = \"continent\",\n",
    "             y = \"casi_covid\", \n",
    "             kind = \"bar\")"
   ]
  },
  {
   "cell_type": "markdown",
   "id": "363f1ad1-dfc3-4ab0-a0e7-de2bc73b394a",
   "metadata": {},
   "source": [
    "#### Totale mondiale infettati "
   ]
  },
  {
   "cell_type": "code",
   "execution_count": 11,
   "id": "d1fce075-39f9-495b-9c46-63c0e23b94a6",
   "metadata": {},
   "outputs": [],
   "source": [
    "tot = str(g[\"new_cases\"].sum().sum())"
   ]
  },
  {
   "cell_type": "markdown",
   "id": "00b386e3-4559-4576-a3e7-8f3cf0527c14",
   "metadata": {},
   "source": [
    "##### Realizzo un codice per visualizzare in modo più chiaro il numero totale di infettati"
   ]
  },
  {
   "cell_type": "code",
   "execution_count": 12,
   "id": "802b1756-36cc-4258-a4eb-7070cde3d64a",
   "metadata": {},
   "outputs": [
    {
     "name": "stdout",
     "output_type": "stream",
     "text": [
      "Totale infettati = 766.460.239\n"
     ]
    }
   ],
   "source": [
    "s = str.find(tot,'.')\n",
    "if s >= 0:\n",
    "   j = len(tot)\n",
    "   tot = tot[0:s]\n",
    "   b = ''\n",
    "   k = 0\n",
    "   for k in range(len(tot)-3,0,-3):\n",
    "      b = '.' + tot[k:j] + b\n",
    "      j = k\n",
    "   b = tot[:k] + b\n",
    "tot = b\n",
    "\n",
    "print(\"Totale infettati =\",b)"
   ]
  },
  {
   "cell_type": "markdown",
   "id": "5d3baa76-c5cf-4fff-ba8c-b0786e53ee05",
   "metadata": {},
   "source": [
    "#### Implemento una funzione che mi permetta di confrontare i numeri relativi alla pandemia tra due continenti"
   ]
  },
  {
   "cell_type": "code",
   "execution_count": 13,
   "id": "27091dcf-3fa3-4eb2-8a53-007456398114",
   "metadata": {},
   "outputs": [],
   "source": [
    "def confronto_infetti(data, cont1, cont2):\n",
    "    cond = data.loc[:, \"continent\"] == cont1\n",
    "    cond1 = data.loc[:, \"continent\"] == cont2\n",
    "    casi_covid = data.loc[cond, \"total_cases\"]\n",
    "    casi_covid1 = data.loc[cond1,\"total_cases\"]\n",
    "    \n",
    "    minimo = casi_covid.min()\n",
    "    minimo1 = casi_covid1.min()\n",
    "   \n",
    "    casi_covid_new = data.loc[cond, \"new_cases\"]\n",
    "    casi_covid_new1 = data.loc[cond1, \"new_cases\"]\n",
    "    mass = casi_covid_new.max()\n",
    "    mass1 = casi_covid_new1.max()\n",
    "    \n",
    "    media = round(casi_covid_new.mean(),2)\n",
    "    media1 = round(casi_covid_new1.mean(),2)\n",
    "    \n",
    "    tot_percentuale = round( casi_covid_new.sum() * 100 / g[\"new_cases\"].sum().sum(),2)\n",
    "    tot_percentuale1 = round( casi_covid_new1.sum() * 100 / g[\"new_cases\"].sum().sum(),2)\n",
    "    \n",
    "    d = {\"Continente\":[cont1,cont2],\"Minimo\":[minimo,minimo1], \"Massimo\":[mass,mass1], \"Media\":[media,media1], \"% Infetti\": [tot_percentuale, tot_percentuale1]}\n",
    "    \n",
    "   \n",
    "    return pd.DataFrame(d)"
   ]
  },
  {
   "cell_type": "code",
   "execution_count": 16,
   "id": "15fd6a18-fcbe-49b2-a1e8-8c8c12300464",
   "metadata": {},
   "outputs": [
    {
     "data": {
      "text/html": [
       "<div>\n",
       "<style scoped>\n",
       "    .dataframe tbody tr th:only-of-type {\n",
       "        vertical-align: middle;\n",
       "    }\n",
       "\n",
       "    .dataframe tbody tr th {\n",
       "        vertical-align: top;\n",
       "    }\n",
       "\n",
       "    .dataframe thead th {\n",
       "        text-align: right;\n",
       "    }\n",
       "</style>\n",
       "<table border=\"1\" class=\"dataframe\">\n",
       "  <thead>\n",
       "    <tr style=\"text-align: right;\">\n",
       "      <th></th>\n",
       "      <th>Continente</th>\n",
       "      <th>Minimo</th>\n",
       "      <th>Massimo</th>\n",
       "      <th>Media</th>\n",
       "      <th>% Infetti</th>\n",
       "    </tr>\n",
       "  </thead>\n",
       "  <tbody>\n",
       "    <tr>\n",
       "      <th>0</th>\n",
       "      <td>Europe</td>\n",
       "      <td>1.00</td>\n",
       "      <td>500,563.00</td>\n",
       "      <td>3,973.78</td>\n",
       "      <td>32.53</td>\n",
       "    </tr>\n",
       "    <tr>\n",
       "      <th>1</th>\n",
       "      <td>North America</td>\n",
       "      <td>1.00</td>\n",
       "      <td>1,265,520.00</td>\n",
       "      <td>2,462.48</td>\n",
       "      <td>16.20</td>\n",
       "    </tr>\n",
       "  </tbody>\n",
       "</table>\n",
       "</div>"
      ],
      "text/plain": [
       "      Continente  Minimo      Massimo    Media  % Infetti\n",
       "0         Europe    1.00   500,563.00 3,973.78      32.53\n",
       "1  North America    1.00 1,265,520.00 2,462.48      16.20"
      ]
     },
     "execution_count": 16,
     "metadata": {},
     "output_type": "execute_result"
    }
   ],
   "source": [
    "confronto_infetti(data,\"Europe\",\"North America\")"
   ]
  },
  {
   "cell_type": "markdown",
   "id": "1a6998e9-3158-4c07-8fae-735221efa7f2",
   "metadata": {},
   "source": [
    "#### Come per i casi covid, realizzo una tabellina che evidenzia le vaccinazioni per ogni continente"
   ]
  },
  {
   "cell_type": "code",
   "execution_count": 19,
   "id": "19c5dc7e-1811-4a17-90c9-c34bae014318",
   "metadata": {},
   "outputs": [
    {
     "data": {
      "text/html": [
       "<div>\n",
       "<style scoped>\n",
       "    .dataframe tbody tr th:only-of-type {\n",
       "        vertical-align: middle;\n",
       "    }\n",
       "\n",
       "    .dataframe tbody tr th {\n",
       "        vertical-align: top;\n",
       "    }\n",
       "\n",
       "    .dataframe thead th {\n",
       "        text-align: right;\n",
       "    }\n",
       "</style>\n",
       "<table border=\"1\" class=\"dataframe\">\n",
       "  <thead>\n",
       "    <tr style=\"text-align: right;\">\n",
       "      <th></th>\n",
       "      <th>continent</th>\n",
       "      <th>vaccinazioni</th>\n",
       "    </tr>\n",
       "  </thead>\n",
       "  <tbody>\n",
       "    <tr>\n",
       "      <th>0</th>\n",
       "      <td>Africa</td>\n",
       "      <td>117,367,074.00</td>\n",
       "    </tr>\n",
       "    <tr>\n",
       "      <th>1</th>\n",
       "      <td>Asia</td>\n",
       "      <td>7,547,787,134.00</td>\n",
       "    </tr>\n",
       "    <tr>\n",
       "      <th>2</th>\n",
       "      <td>Europe</td>\n",
       "      <td>1,264,676,627.00</td>\n",
       "    </tr>\n",
       "    <tr>\n",
       "      <th>3</th>\n",
       "      <td>North America</td>\n",
       "      <td>997,458,888.00</td>\n",
       "    </tr>\n",
       "    <tr>\n",
       "      <th>4</th>\n",
       "      <td>Oceania</td>\n",
       "      <td>74,542,164.00</td>\n",
       "    </tr>\n",
       "    <tr>\n",
       "      <th>5</th>\n",
       "      <td>South America</td>\n",
       "      <td>843,082,707.00</td>\n",
       "    </tr>\n",
       "  </tbody>\n",
       "</table>\n",
       "</div>"
      ],
      "text/plain": [
       "       continent     vaccinazioni\n",
       "0         Africa   117,367,074.00\n",
       "1           Asia 7,547,787,134.00\n",
       "2         Europe 1,264,676,627.00\n",
       "3  North America   997,458,888.00\n",
       "4        Oceania    74,542,164.00\n",
       "5  South America   843,082,707.00"
      ]
     },
     "execution_count": 19,
     "metadata": {},
     "output_type": "execute_result"
    }
   ],
   "source": [
    "data.groupby(by = \"continent\",as_index = False, dropna = True).agg(vaccinazioni = (\"new_vaccinations\",np.sum))"
   ]
  },
  {
   "cell_type": "markdown",
   "id": "1813cf50-c340-4c6c-b923-d9e0da175372",
   "metadata": {},
   "source": [
    "#### Ora realizzo una funzione che sia in grado di relazionare i dati statistici dei vaccinati in tutti i continenti"
   ]
  },
  {
   "cell_type": "code",
   "execution_count": 21,
   "id": "456c9b7a-ba98-4d1e-9f93-bbf931a9d671",
   "metadata": {},
   "outputs": [],
   "source": [
    "def confronto_vacc(data, cont1, cont2, cont3, cont4, cont5, cont6):\n",
    "    cond = data.loc[:, \"continent\"] == cont1\n",
    "    cond1 = data.loc[:, \"continent\"] == cont2\n",
    "    cond2 = data.loc[:, \"continent\"] == cont3\n",
    "    cond3 = data.loc[:, \"continent\"] == cont4\n",
    "    cond4 = data.loc[:, \"continent\"] == cont5\n",
    "    cond5 = data.loc[:, \"continent\"] == cont6\n",
    "    \n",
    "    vaccini = data.loc[cond, \"new_vaccinations\"]\n",
    "    vaccini1 = data.loc[cond1, \"new_vaccinations\"]\n",
    "    vaccini2 = data.loc[cond2, \"new_vaccinations\"]\n",
    "    vaccini3 = data.loc[cond3, \"new_vaccinations\"]\n",
    "    vaccini4 = data.loc[cond4, \"new_vaccinations\"]\n",
    "    vaccini5 = data.loc[cond5, \"new_vaccinations\"]\n",
    "    \n",
    "    minimo = vaccini.min()\n",
    "    minimo1 = vaccini1.min()\n",
    "    minimo2 = vaccini2.min()\n",
    "    minimo3 = vaccini3.min()\n",
    "    minimo4 = vaccini4.min()\n",
    "    minimo5 = vaccini5.min()\n",
    "   \n",
    "    mass = vaccini.max()\n",
    "    mass1 = vaccini1.max()\n",
    "    mass2 = vaccini2.max()\n",
    "    mass3 = vaccini3.max()\n",
    "    mass4 = vaccini4.max()\n",
    "    mass5 = vaccini5.max()\n",
    "    \n",
    "    media = round(vaccini.mean(),2)\n",
    "    media1 = round(vaccini1.mean(),2)\n",
    "    media2 = round(vaccini2.mean(),2)\n",
    "    media3 = round(vaccini3.mean(),2)\n",
    "    media4 = round(vaccini4.mean(),2)\n",
    "    media5 = round(vaccini5.mean(),2)\n",
    "    \n",
    "    tot_percentuale = round( vaccini.sum() * 100 / g[\"new_vaccinations\"].sum().sum(),2)\n",
    "    tot_percentuale1 = round( vaccini1.sum() * 100 / g[\"new_vaccinations\"].sum().sum(),2)\n",
    "    tot_percentuale2 = round( vaccini2.sum() * 100 / g[\"new_vaccinations\"].sum().sum(),2)\n",
    "    tot_percentuale3 = round( vaccini3.sum() * 100 / g[\"new_vaccinations\"].sum().sum(),2)\n",
    "    tot_percentuale4 = round( vaccini4.sum() * 100 / g[\"new_vaccinations\"].sum().sum(),2)\n",
    "    tot_percentuale5 = round( vaccini5.sum() * 100 / g[\"new_vaccinations\"].sum().sum(),2)\n",
    "    \n",
    "    d = {\"Continente\":[cont1,cont2,cont3, cont4, cont5, cont6],\n",
    "         \"Minimo\":[minimo,minimo1,minimo2,minimo3,minimo4,minimo5], \n",
    "         \"Massimo\":[mass,mass1,mass2,mass3,mass4,mass5], \n",
    "         \"Media\":[media,media1,media2,media3,media4,media5], \n",
    "         \"% Vaccinati\": [tot_percentuale, tot_percentuale1,tot_percentuale2,tot_percentuale3,tot_percentuale4,tot_percentuale5]}\n",
    "         \n",
    "    \n",
    "   \n",
    "    return pd.DataFrame(d)"
   ]
  },
  {
   "cell_type": "code",
   "execution_count": 22,
   "id": "43da4d09-1484-4eb8-ade9-01c6cbb80524",
   "metadata": {},
   "outputs": [
    {
     "data": {
      "text/html": [
       "<div>\n",
       "<style scoped>\n",
       "    .dataframe tbody tr th:only-of-type {\n",
       "        vertical-align: middle;\n",
       "    }\n",
       "\n",
       "    .dataframe tbody tr th {\n",
       "        vertical-align: top;\n",
       "    }\n",
       "\n",
       "    .dataframe thead th {\n",
       "        text-align: right;\n",
       "    }\n",
       "</style>\n",
       "<table border=\"1\" class=\"dataframe\">\n",
       "  <thead>\n",
       "    <tr style=\"text-align: right;\">\n",
       "      <th></th>\n",
       "      <th>Continente</th>\n",
       "      <th>Minimo</th>\n",
       "      <th>Massimo</th>\n",
       "      <th>Media</th>\n",
       "      <th>% Vaccinati</th>\n",
       "    </tr>\n",
       "  </thead>\n",
       "  <tbody>\n",
       "    <tr>\n",
       "      <th>0</th>\n",
       "      <td>Africa</td>\n",
       "      <td>0.00</td>\n",
       "      <td>1,866,822.00</td>\n",
       "      <td>42,203.19</td>\n",
       "      <td>1.08</td>\n",
       "    </tr>\n",
       "    <tr>\n",
       "      <th>1</th>\n",
       "      <td>Asia</td>\n",
       "      <td>0.00</td>\n",
       "      <td>24,741,000.00</td>\n",
       "      <td>510,675.72</td>\n",
       "      <td>69.60</td>\n",
       "    </tr>\n",
       "    <tr>\n",
       "      <th>2</th>\n",
       "      <td>Europe</td>\n",
       "      <td>0.00</td>\n",
       "      <td>2,389,472.00</td>\n",
       "      <td>59,991.30</td>\n",
       "      <td>11.66</td>\n",
       "    </tr>\n",
       "    <tr>\n",
       "      <th>3</th>\n",
       "      <td>North America</td>\n",
       "      <td>0.00</td>\n",
       "      <td>7,246,123.00</td>\n",
       "      <td>174,046.22</td>\n",
       "      <td>9.20</td>\n",
       "    </tr>\n",
       "    <tr>\n",
       "      <th>4</th>\n",
       "      <td>Oceania</td>\n",
       "      <td>1.00</td>\n",
       "      <td>351,226.00</td>\n",
       "      <td>56,859.01</td>\n",
       "      <td>0.69</td>\n",
       "    </tr>\n",
       "    <tr>\n",
       "      <th>5</th>\n",
       "      <td>South America</td>\n",
       "      <td>1.00</td>\n",
       "      <td>3,976,605.00</td>\n",
       "      <td>150,846.79</td>\n",
       "      <td>7.77</td>\n",
       "    </tr>\n",
       "  </tbody>\n",
       "</table>\n",
       "</div>"
      ],
      "text/plain": [
       "      Continente  Minimo       Massimo      Media  % Vaccinati\n",
       "0         Africa    0.00  1,866,822.00  42,203.19         1.08\n",
       "1           Asia    0.00 24,741,000.00 510,675.72        69.60\n",
       "2         Europe    0.00  2,389,472.00  59,991.30        11.66\n",
       "3  North America    0.00  7,246,123.00 174,046.22         9.20\n",
       "4        Oceania    1.00    351,226.00  56,859.01         0.69\n",
       "5  South America    1.00  3,976,605.00 150,846.79         7.77"
      ]
     },
     "execution_count": 22,
     "metadata": {},
     "output_type": "execute_result"
    }
   ],
   "source": [
    "confronto_vacc(data, \"Africa\", \"Asia\", \"Europe\", \"North America\", \"Oceania\", \"South America\")"
   ]
  },
  {
   "cell_type": "markdown",
   "id": "7c6cb6e3-3faf-4aa4-bf18-719375efda0a",
   "metadata": {},
   "source": [
    "#### Creo un grafico sulle vaccinazioni effettuate nei vari continenti"
   ]
  },
  {
   "cell_type": "code",
   "execution_count": 20,
   "id": "c841e81e-bd40-4b7e-a0b7-20c5bd4e6b8b",
   "metadata": {},
   "outputs": [
    {
     "data": {
      "text/plain": [
       "<Axes: xlabel='continent'>"
      ]
     },
     "execution_count": 20,
     "metadata": {},
     "output_type": "execute_result"
    },
    {
     "data": {
      "image/png": "[encoded data removed]",
      "text/plain": [
       "<Figure size 640x480 with 1 Axes>"
      ]
     },
     "metadata": {},
     "output_type": "display_data"
    }
   ],
   "source": [
    "data.groupby(by = \"continent\",as_index = False, dropna = True).agg(vaccini = (\"new_vaccinations\",np.sum)) \\\n",
    "       .plot(x = \"continent\",\n",
    "             y = \"vaccini\", \n",
    "             kind = \"bar\")"
   ]
  },
  {
   "cell_type": "markdown",
   "id": "edbd81ca-b600-416c-985e-10696b67ef03",
   "metadata": {},
   "source": [
    "### Analisi statistica sui seguenti continenti:\n",
    "* Europa\n",
    "* Sud America\n",
    "* Oceania"
   ]
  },
  {
   "cell_type": "code",
   "execution_count": 24,
   "id": "5b91efe1-0d8c-4344-8ef1-8872287ea544",
   "metadata": {},
   "outputs": [],
   "source": [
    "def cov_vacc(data, cont1, cont2, cont3):\n",
    "    cond1 = data.loc[:, \"continent\"] == cont1\n",
    "    cond2 = data.loc[:, \"continent\"] == cont2\n",
    "    cond3 = data.loc[:, \"continent\"] == cont3\n",
    "    \n",
    "    vaccini1 = data.loc[cond1, \"new_vaccinations\"]\n",
    "    vaccini2 = data.loc[cond2, \"new_vaccinations\"]\n",
    "    vaccini3 = data.loc[cond3, \"new_vaccinations\"]\n",
    "    \n",
    "    casi_covid1 = data.loc[cond1, \"new_cases\"]\n",
    "    casi_covid2 = data.loc[cond2, \"new_cases\"]\n",
    "    casi_covid3 = data.loc[cond3, \"new_cases\"]\n",
    "    \n",
    "    mass_vacc1 = vaccini1.max()\n",
    "    mass_vacc2 = vaccini2.max()\n",
    "    mass_vacc3 = vaccini3.max()\n",
    "    mass_cov1 = casi_covid1.max()\n",
    "    mass_cov2 = casi_covid2.max()\n",
    "    mass_cov3 = casi_covid3.max()\n",
    "    \n",
    "    media_vacc1 = round(vaccini1.mean(),2)\n",
    "    media_vacc2 = round(vaccini2.mean(),2)\n",
    "    media_vacc3 = round(vaccini3.mean(),2)\n",
    "    media_cov1 = round(casi_covid1.mean(),2)\n",
    "    media_cov2 = round(casi_covid2.mean(),2)\n",
    "    media_cov3 = round(casi_covid3.mean(),2)\n",
    "    \n",
    "    tot_perc_vacc1 = round( vaccini1.sum() * 100 / g[\"new_vaccinations\"].sum().sum(),2)\n",
    "    tot_perc_vacc2 = round( vaccini2.sum() * 100 / g[\"new_vaccinations\"].sum().sum(),2)\n",
    "    tot_perc_vacc3 = round( vaccini3.sum() * 100 / g[\"new_vaccinations\"].sum().sum(),2)\n",
    "    tot_perc_cov1 = round( casi_covid1.sum() * 100 / g[\"new_cases\"].sum().sum(),2)\n",
    "    tot_perc_cov2 = round( casi_covid2.sum() * 100 / g[\"new_cases\"].sum().sum(),2)\n",
    "    tot_perc_cov3 = round( casi_covid3.sum() * 100 / g[\"new_cases\"].sum().sum(),2)\n",
    "    \n",
    "    d = {\"Continente\":[cont1,cont2,cont3],\n",
    "         \"Massimo Covid\":[mass_cov1,mass_cov2,mass_cov3], \n",
    "         \"Massimo Vaccini\":[mass_vacc1,mass_vacc2,mass_vacc3], \n",
    "         \"Media covid\":[media_cov1,media_cov2,media_cov3],\n",
    "         \"Media Vaccini\":[media_vacc1,media_vacc2,media_vacc3],\n",
    "         \"% infetti\":[tot_perc_cov1,tot_perc_cov2,tot_perc_cov3],\n",
    "         \"% Vaccinati\": [tot_perc_vacc1,tot_perc_vacc2,tot_perc_vacc3]}\n",
    "    \n",
    "    return pd.DataFrame(d)"
   ]
  },
  {
   "cell_type": "code",
   "execution_count": 26,
   "id": "761192c9-3130-4553-823b-6e750ffee600",
   "metadata": {},
   "outputs": [
    {
     "data": {
      "text/html": [
       "<div>\n",
       "<style scoped>\n",
       "    .dataframe tbody tr th:only-of-type {\n",
       "        vertical-align: middle;\n",
       "    }\n",
       "\n",
       "    .dataframe tbody tr th {\n",
       "        vertical-align: top;\n",
       "    }\n",
       "\n",
       "    .dataframe thead th {\n",
       "        text-align: right;\n",
       "    }\n",
       "</style>\n",
       "<table border=\"1\" class=\"dataframe\">\n",
       "  <thead>\n",
       "    <tr style=\"text-align: right;\">\n",
       "      <th></th>\n",
       "      <th>Continente</th>\n",
       "      <th>Massimo Covid</th>\n",
       "      <th>Massimo Vaccini</th>\n",
       "      <th>Media covid</th>\n",
       "      <th>Media Vaccini</th>\n",
       "      <th>% infetti</th>\n",
       "      <th>% Vaccinati</th>\n",
       "    </tr>\n",
       "  </thead>\n",
       "  <tbody>\n",
       "    <tr>\n",
       "      <th>0</th>\n",
       "      <td>Europe</td>\n",
       "      <td>500,563.00</td>\n",
       "      <td>2,389,472.00</td>\n",
       "      <td>3,973.78</td>\n",
       "      <td>59,991.30</td>\n",
       "      <td>32.53</td>\n",
       "      <td>11.66</td>\n",
       "    </tr>\n",
       "    <tr>\n",
       "      <th>1</th>\n",
       "      <td>South America</td>\n",
       "      <td>298,408.00</td>\n",
       "      <td>3,976,605.00</td>\n",
       "      <td>3,983.28</td>\n",
       "      <td>150,846.79</td>\n",
       "      <td>8.95</td>\n",
       "      <td>7.77</td>\n",
       "    </tr>\n",
       "    <tr>\n",
       "      <th>2</th>\n",
       "      <td>Oceania</td>\n",
       "      <td>588,813.00</td>\n",
       "      <td>351,226.00</td>\n",
       "      <td>476.44</td>\n",
       "      <td>56,859.01</td>\n",
       "      <td>1.84</td>\n",
       "      <td>0.69</td>\n",
       "    </tr>\n",
       "  </tbody>\n",
       "</table>\n",
       "</div>"
      ],
      "text/plain": [
       "      Continente  Massimo Covid  Massimo Vaccini  Media covid  Media Vaccini  \\\n",
       "0         Europe     500,563.00     2,389,472.00     3,973.78      59,991.30   \n",
       "1  South America     298,408.00     3,976,605.00     3,983.28     150,846.79   \n",
       "2        Oceania     588,813.00       351,226.00       476.44      56,859.01   \n",
       "\n",
       "   % infetti  % Vaccinati  \n",
       "0      32.53        11.66  \n",
       "1       8.95         7.77  \n",
       "2       1.84         0.69  "
      ]
     },
     "execution_count": 26,
     "metadata": {},
     "output_type": "execute_result"
    }
   ],
   "source": [
    "cov_vacc(data, \"Europe\", \"South America\", \"Oceania\")"
   ]
  },
  {
   "cell_type": "markdown",
   "id": "a193777e-7ed3-4f1f-890f-b64083eec3cd",
   "metadata": {},
   "source": [
    "#### Dai dati relativi ai continenti sopracitati si evince che il Sud America vanta una media di vaccinati molto più alta rispetto all'Europa nonostante la media degli infettati sia quasi la stessa, questo perchè il numero di vaccinati in Sud America è molto basso. Per quanto concerne innvece l'Oceania, si registrano numeri veramente esigui, anche se il massimo di contagiati è molto simile a quello europeo."
   ]
  },
  {
   "cell_type": "markdown",
   "id": "d7f96237-95b6-433b-bc70-52760bf4ceb4",
   "metadata": {},
   "source": [
    "## Analisi complessiva"
   ]
  },
  {
   "cell_type": "markdown",
   "id": "aa5f76c2-6ee9-49d7-bc5d-6b4d1f5c2124",
   "metadata": {},
   "source": [
    "#### Dalle varie analisi effettuate si denota che il continente con più casi di covid registrati risulta essere l'Asia, d' altronde è altresì vero che la nazione dal quale è partita l'epidemia è la Cina. Stesso discorso vale per le vaccinazioni. Singolari invece sono le situazioni dell'Africa e dell' Oceania, che protocollano dei numeri pandemici molto al di sotto della media mondiale. Altrettanto particolare è il rapporto tra infettati e vaccinati in Europa. Dato il numero di contagiati ci si aspetterebbe un elevato numero di vaccinazioni, invece quest'ultime superano di poco quelle del Nord America, che ha avuto un numero molto minore di infettati rispetto all Europa."
   ]
  },
  {
   "cell_type": "code",
   "execution_count": null,
   "id": "b2126017-bd38-42eb-851c-7cc810d6fa15",
   "metadata": {},
   "outputs": [],
   "source": []
  }
 ],
 "metadata": {
  "kernelspec": {
   "display_name": "Python 3 (ipykernel)",
   "language": "python",
   "name": "python3"
  },
  "language_info": {
   "codemirror_mode": {
    "name": "ipython",
    "version": 3
   },
   "file_extension": ".py",
   "mimetype": "text/x-python",
   "name": "python",
   "nbconvert_exporter": "python",
   "pygments_lexer": "ipython3",
   "version": "3.10.9"
  }
 },
 "nbformat": 4,
 "nbformat_minor": 5
}
